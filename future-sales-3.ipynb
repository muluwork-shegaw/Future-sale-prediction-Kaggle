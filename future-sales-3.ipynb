{
  "nbformat": 4,
  "nbformat_minor": 0,
  "metadata": {
    "kernelspec": {
      "language": "python",
      "display_name": "Python 3",
      "name": "python3"
    },
    "language_info": {
      "pygments_lexer": "ipython3",
      "nbconvert_exporter": "python",
      "version": "3.6.4",
      "file_extension": ".py",
      "codemirror_mode": {
        "name": "ipython",
        "version": 3
      },
      "name": "python",
      "mimetype": "text/x-python"
    },
    "colab": {
      "name": "future-sales-3.ipynb",
      "provenance": [],
      "toc_visible": true
    }
  },
  "cells": [
    {
      "cell_type": "code",
      "metadata": {
        "id": "LCW5BJHx0bdE",
        "colab_type": "code",
        "colab": {
          "base_uri": "https://localhost:8080/",
          "height": 33
        },
        "outputId": "1ab5267e-d105-4d84-c2a0-653d3985ea7b"
      },
      "source": [
        "from google.colab import drive\n",
        "drive.mount(\"/content/gdrive/\",force_remount=True)\n",
        "# %cd \"drive/My Drive/\""
      ],
      "execution_count": 4,
      "outputs": [
        {
          "output_type": "stream",
          "text": [
            "Mounted at /content/gdrive/\n"
          ],
          "name": "stdout"
        }
      ]
    },
    {
      "cell_type": "markdown",
      "metadata": {
        "id": "ibZhGpMc0X-S",
        "colab_type": "text"
      },
      "source": [
        "# Introduction\n",
        "\n",
        "The Future Sales competition is the final assesment in the 'How to win a Data Science' course in the Advanced Machine Learning specialisation from HSE University, Moscow. The aim is to predict the monthly sales of items in specific shops, given historical data. The sale counts are clipped between 0 and 20."
      ]
    },
    {
      "cell_type": "code",
      "metadata": {
        "trusted": true,
        "id": "Lmw-_F6o0X-V",
        "colab_type": "code",
        "colab": {
          "base_uri": "https://localhost:8080/",
          "height": 70
        },
        "outputId": "51557dca-dfaf-437c-dc08-c3b34eb461b5"
      },
      "source": [
        "import numpy as np \n",
        "import pandas as pd \n",
        "import matplotlib.pyplot as plt\n",
        "import seaborn as sns\n",
        "import pandas.util.testing as tm\n",
        "sns.set(style=\"darkgrid\")\n",
        "\n",
        "\n",
        "# import os\n",
        "# for dirname, _, filenames in os.walk('/kaggle/input'):\n",
        "#     for filename in filenames:\n",
        "#         print(os.path.join(dirname, filename))"
      ],
      "execution_count": 5,
      "outputs": [
        {
          "output_type": "stream",
          "text": [
            "/usr/local/lib/python3.6/dist-packages/statsmodels/tools/_testing.py:19: FutureWarning: pandas.util.testing is deprecated. Use the functions in the public API at pandas.testing instead.\n",
            "  import pandas.util.testing as tm\n"
          ],
          "name": "stderr"
        }
      ]
    },
    {
      "cell_type": "markdown",
      "metadata": {
        "id": "WscF3_wD0X-h",
        "colab_type": "text"
      },
      "source": [
        "# Load Data"
      ]
    },
    {
      "cell_type": "markdown",
      "metadata": {
        "id": "RqG7c91b87K0",
        "colab_type": "text"
      },
      "source": [
        ""
      ]
    },
    {
      "cell_type": "code",
      "metadata": {
        "id": "fqGAn8Xv87nq",
        "colab_type": "code",
        "colab": {
          "base_uri": "https://localhost:8080/",
          "height": 0
        },
        "outputId": "af2422e4-95ad-4394-be45-a332a04520d2"
      },
      "source": [
        "%cd \"gdrive/My Drive/ FutureSalesPrediction-Kaggle/data\""
      ],
      "execution_count": 6,
      "outputs": [
        {
          "output_type": "stream",
          "text": [
            "/content/gdrive/My Drive/ FutureSalesPrediction-Kaggle/data\n"
          ],
          "name": "stdout"
        }
      ]
    },
    {
      "cell_type": "code",
      "metadata": {
        "id": "nfAdLIUU7rpV",
        "colab_type": "code",
        "colab": {}
      },
      "source": [
        "# \n",
        "\n",
        "#  !mkdir -p ~/.kaggle\n",
        "\n",
        "# !cp kaggle.json ~/.kaggle/\n",
        "# !chmod 600 ~/.kaggle/kaggle.json\n",
        "\n",
        "# !kaggle competitions download -c rossmann-store-sales\n",
        "\n",
        "# from zipfile import ZipFile\n",
        "# file_name = \"test.csv.zip\"\n",
        "# file_name = \"train.csv.zip\"\n",
        "\n",
        "\n",
        "# with ZipFile(file_name,\"r\") as zip:\n",
        "#   zip.extractall()\n",
        "#   print(\"Done\")"
      ],
      "execution_count": 7,
      "outputs": []
    },
    {
      "cell_type": "code",
      "metadata": {
        "trusted": true,
        "id": "O1MZRFKf0X-j",
        "colab_type": "code",
        "colab": {}
      },
      "source": [
        "# load data\n",
        "items=pd.read_csv(\"items.csv\")\n",
        "shops=pd.read_csv(\"shops.csv\")\n",
        "cats=pd.read_csv(\"item_categories.csv\")\n",
        "train=pd.read_csv(\"sales_train.csv\")\n",
        "test=pd.read_csv(\"test.csv\")"
      ],
      "execution_count": 8,
      "outputs": []
    },
    {
      "cell_type": "markdown",
      "metadata": {
        "id": "cuJhFIxp0X-q",
        "colab_type": "text"
      },
      "source": [
        "# 1. Data Cleaning\n",
        "\n",
        "We'll remove outliers, clean up some of the raw data and add some new variables to it."
      ]
    },
    {
      "cell_type": "markdown",
      "metadata": {
        "id": "KX-HvFJM0X-q",
        "colab_type": "text"
      },
      "source": [
        "# Remove outliers"
      ]
    },
    {
      "cell_type": "code",
      "metadata": {
        "trusted": true,
        "id": "qWMXho5L0X-r",
        "colab_type": "code",
        "colab": {
          "base_uri": "https://localhost:8080/",
          "height": 0
        },
        "outputId": "9df989e7-9fd0-4cdc-e9f6-5fee923f0051"
      },
      "source": [
        "plt.figure(figsize=(10,4))\n",
        "plt.xlim(-100, 3000)\n",
        "flierprops = dict(marker='o', markerfacecolor='purple', markersize=6,\n",
        "                  linestyle='none', markeredgecolor='black')\n",
        "sns.boxplot(x=train.item_cnt_day, flierprops=flierprops)\n",
        "\n",
        "plt.figure(figsize=(10,4))\n",
        "plt.xlim(train.item_price.min(), train.item_price.max()*1.1)\n",
        "sns.boxplot(x=train.item_price, flierprops=flierprops)"
      ],
      "execution_count": 9,
      "outputs": [
        {
          "output_type": "execute_result",
          "data": {
            "text/plain": [
              "<matplotlib.axes._subplots.AxesSubplot at 0x7fecc8daea20>"
            ]
          },
          "metadata": {
            "tags": []
          },
          "execution_count": 9
        },
        {
          "output_type": "display_data",
          "data": {
            "image/png": "[encoded data removed]",
            "text/plain": [
              "<Figure size 720x288 with 1 Axes>"
            ]
          },
          "metadata": {
            "tags": []
          }
        },
        {
          "output_type": "display_data",
          "data": {
            "image/png": "[encoded data removed]",
            "text/plain": [
              "<Figure size 720x288 with 1 Axes>"
            ]
          },
          "metadata": {
            "tags": []
          }
        }
      ]
    },
    {
      "cell_type": "markdown",
      "metadata": {
        "id": "i3LJ2THg0X-v",
        "colab_type": "text"
      },
      "source": [
        "We'll remove the obvious outliers in the dataset - the items that sold more than 1000 in one day and the item with price greater than 300,000."
      ]
    },
    {
      "cell_type": "code",
      "metadata": {
        "trusted": true,
        "id": "xtqjyE970X-w",
        "colab_type": "code",
        "colab": {}
      },
      "source": [
        "train = train[(train.item_price < 300000 )& (train.item_cnt_day < 1000)]"
      ],
      "execution_count": 10,
      "outputs": []
    },
    {
      "cell_type": "markdown",
      "metadata": {
        "id": "XALZx6kx0X-0",
        "colab_type": "text"
      },
      "source": [
        "Remove any rows from train where item price is negative - these could be refunds. Also make zero and item_cnt_day values less than one, to remove negative values."
      ]
    },
    {
      "cell_type": "code",
      "metadata": {
        "trusted": true,
        "id": "jt6vND1W0X-0",
        "colab_type": "code",
        "colab": {}
      },
      "source": [
        "train = train[train.item_price > 0].reset_index(drop = True)\n",
        "train.loc[train.item_cnt_day < 1, \"item_cnt_day\"] = 0"
      ],
      "execution_count": 11,
      "outputs": []
    },
    {
      "cell_type": "markdown",
      "metadata": {
        "id": "3KXtPXnz0X-4",
        "colab_type": "text"
      },
      "source": [
        "# Cleaning Shop Data"
      ]
    },
    {
      "cell_type": "markdown",
      "metadata": {
        "id": "CwO1PNm40X-4",
        "colab_type": "text"
      },
      "source": [
        "Several of the shops look like duplicates of each other. This could be down to shops re-opening or possibly moving store location on the same street or shopping centre."
      ]
    },
    {
      "cell_type": "code",
      "metadata": {
        "trusted": true,
        "id": "rUVSGo6v0X-5",
        "colab_type": "code",
        "colab": {}
      },
      "source": [
        "# Якутск Орджоникидзе, 56\n",
        "train.loc[train.shop_id == 0, 'shop_id'] = 57\n",
        "test.loc[test.shop_id == 0, 'shop_id'] = 57\n",
        "# Якутск ТЦ \"Центральный\"\n",
        "train.loc[train.shop_id == 1, 'shop_id'] = 58\n",
        "test.loc[test.shop_id == 1, 'shop_id'] = 58\n",
        "# Жуковский ул. Чкалова 39м²\n",
        "train.loc[train.shop_id == 10, 'shop_id'] = 11\n",
        "test.loc[test.shop_id == 10, 'shop_id'] = 11"
      ],
      "execution_count": 12,
      "outputs": []
    },
    {
      "cell_type": "markdown",
      "metadata": {
        "id": "iRRgbakg0X-9",
        "colab_type": "text"
      },
      "source": [
        "Clean up some shop names and add 'city' and 'category' to shops df."
      ]
    },
    {
      "cell_type": "code",
      "metadata": {
        "trusted": true,
        "id": "h6RMPTSa0X--",
        "colab_type": "code",
        "colab": {}
      },
      "source": [
        "shops.loc[ shops.shop_name == 'Сергиев Посад ТЦ \"7Я\"',\"shop_name\" ] = 'СергиевПосад ТЦ \"7Я\"'\n",
        "shops[\"city\"] = shops.shop_name.str.split(\" \").map( lambda x: x[0] )\n",
        "shops[\"category\"] = shops.shop_name.str.split(\" \").map( lambda x: x[1] )\n",
        "shops.loc[shops.city == \"!Якутск\", \"city\"] = \"Якутск\""
      ],
      "execution_count": 13,
      "outputs": []
    },
    {
      "cell_type": "markdown",
      "metadata": {
        "id": "2cPHs-i00X_C",
        "colab_type": "text"
      },
      "source": [
        "Only keep shop category if there are 5 or more shops of that category, the rest are grouped as \"other\"."
      ]
    },
    {
      "cell_type": "code",
      "metadata": {
        "trusted": true,
        "id": "oVPt_cqM0X_D",
        "colab_type": "code",
        "colab": {}
      },
      "source": [
        "category = []\n",
        "for cat in shops.category.unique():\n",
        "    if len(shops[shops.category == cat]) >= 5:\n",
        "        category.append(cat)\n",
        "shops.category = shops.category.apply( lambda x: x if (x in category) else \"other\" )"
      ],
      "execution_count": 14,
      "outputs": []
    },
    {
      "cell_type": "code",
      "metadata": {
        "trusted": true,
        "id": "w_WEgEvQ0X_G",
        "colab_type": "code",
        "colab": {}
      },
      "source": [
        "from sklearn.preprocessing import LabelEncoder\n",
        "shops[\"shop_category\"] = LabelEncoder().fit_transform( shops.category )\n",
        "shops[\"shop_city\"] = LabelEncoder().fit_transform( shops.city )\n",
        "shops = shops[[\"shop_id\", \"shop_category\", \"shop_city\"]]"
      ],
      "execution_count": 15,
      "outputs": []
    },
    {
      "cell_type": "markdown",
      "metadata": {
        "id": "CPx43koh0X_J",
        "colab_type": "text"
      },
      "source": [
        "# Cleaning Item Category Data"
      ]
    },
    {
      "cell_type": "code",
      "metadata": {
        "trusted": true,
        "id": "8-kv9Amv0X_J",
        "colab_type": "code",
        "colab": {}
      },
      "source": [
        "cats[\"type_code\"] = cats.item_category_name.apply( lambda x: x.split(\" \")[0] ).astype(str)\n",
        "cats.loc[ (cats.type_code == \"Игровые\")| (cats.type_code == \"Аксессуары\"), \"category\" ] = \"Игры\""
      ],
      "execution_count": 16,
      "outputs": []
    },
    {
      "cell_type": "code",
      "metadata": {
        "trusted": true,
        "id": "3ej8XsIG0X_N",
        "colab_type": "code",
        "colab": {}
      },
      "source": [
        "category = []\n",
        "for cat in cats.type_code.unique():\n",
        "    if len(cats[cats.type_code == cat]) >= 5: \n",
        "        category.append( cat )\n",
        "cats.type_code = cats.type_code.apply(lambda x: x if (x in category) else \"etc\")"
      ],
      "execution_count": 17,
      "outputs": []
    },
    {
      "cell_type": "code",
      "metadata": {
        "trusted": true,
        "id": "KO0EaHi80X_R",
        "colab_type": "code",
        "colab": {}
      },
      "source": [
        "cats.type_code = LabelEncoder().fit_transform(cats.type_code)\n",
        "cats[\"split\"] = cats.item_category_name.apply(lambda x: x.split(\"-\"))\n",
        "cats[\"subtype\"] = cats.split.apply(lambda x: x[1].strip() if len(x) > 1 else x[0].strip())\n",
        "cats[\"subtype_code\"] = LabelEncoder().fit_transform( cats[\"subtype\"] )\n",
        "cats = cats[[\"item_category_id\", \"subtype_code\", \"type_code\"]]"
      ],
      "execution_count": 18,
      "outputs": []
    },
    {
      "cell_type": "markdown",
      "metadata": {
        "id": "Wem0eEXL0X_W",
        "colab_type": "text"
      },
      "source": [
        "# Cleaning Item Data"
      ]
    },
    {
      "cell_type": "code",
      "metadata": {
        "trusted": true,
        "id": "Ohrsw56B0X_X",
        "colab_type": "code",
        "colab": {}
      },
      "source": [
        "import re\n",
        "def name_correction(x):\n",
        "    x = x.lower() # all letters lower case\n",
        "    x = x.partition('[')[0] # partition by square brackets\n",
        "    x = x.partition('(')[0] # partition by curly brackets\n",
        "    x = re.sub('[^A-Za-z0-9А-Яа-я]+', ' ', x) # remove special characters\n",
        "    x = x.replace('  ', ' ') # replace double spaces with single spaces\n",
        "    x = x.strip() # remove leading and trailing white space\n",
        "    return x"
      ],
      "execution_count": 19,
      "outputs": []
    },
    {
      "cell_type": "markdown",
      "metadata": {
        "id": "kbrCBLdk0X_a",
        "colab_type": "text"
      },
      "source": [
        "Clean item names."
      ]
    },
    {
      "cell_type": "code",
      "metadata": {
        "trusted": true,
        "id": "fImz4CAZ0X_a",
        "colab_type": "code",
        "colab": {
          "base_uri": "https://localhost:8080/",
          "height": 0
        },
        "outputId": "f54474ef-5f87-4622-aa6a-1a3bdb083ac6"
      },
      "source": [
        "# split item names by first bracket\n",
        "items[\"name1\"], items[\"name2\"] = items.item_name.str.split(\"[\", 1).str\n",
        "items[\"name1\"], items[\"name3\"] = items.item_name.str.split(\"(\", 1).str\n",
        "\n",
        "# replace special characters and turn to lower case\n",
        "items[\"name2\"] = items.name2.str.replace('[^A-Za-z0-9А-Яа-я]+', \" \").str.lower()\n",
        "items[\"name3\"] = items.name3.str.replace('[^A-Za-z0-9А-Яа-я]+', \" \").str.lower()\n",
        "\n",
        "# fill nulls with '0'\n",
        "items = items.fillna('0')\n",
        "\n",
        "items[\"item_name\"] = items[\"item_name\"].apply(lambda x: name_correction(x))\n",
        "\n",
        "# return all characters except the last if name 2 is not \"0\" - the closing bracket\n",
        "items.name2 = items.name2.apply( lambda x: x[:-1] if x !=\"0\" else \"0\")"
      ],
      "execution_count": 20,
      "outputs": [
        {
          "output_type": "stream",
          "text": [
            "/usr/local/lib/python3.6/dist-packages/ipykernel_launcher.py:2: FutureWarning: Columnar iteration over characters will be deprecated in future releases.\n",
            "  \n",
            "/usr/local/lib/python3.6/dist-packages/ipykernel_launcher.py:3: FutureWarning: Columnar iteration over characters will be deprecated in future releases.\n",
            "  This is separate from the ipykernel package so we can avoid doing imports until\n"
          ],
          "name": "stderr"
        }
      ]
    },
    {
      "cell_type": "markdown",
      "metadata": {
        "id": "0wPv36To0X_d",
        "colab_type": "text"
      },
      "source": [
        "Clean item type"
      ]
    },
    {
      "cell_type": "code",
      "metadata": {
        "trusted": true,
        "id": "iIgzB7_Y0X_e",
        "colab_type": "code",
        "colab": {}
      },
      "source": [
        "items[\"type\"] = items.name2.apply(lambda x: x[0:8] if x.split(\" \")[0] == \"xbox\" else x.split(\" \")[0] )\n",
        "items.loc[(items.type == \"x360\") | (items.type == \"xbox360\") | (items.type == \"xbox 360\") ,\"type\"] = \"xbox 360\"\n",
        "items.loc[ items.type == \"\", \"type\"] = \"mac\"\n",
        "items.type = items.type.apply( lambda x: x.replace(\" \", \"\") )\n",
        "items.loc[ (items.type == 'pc' )| (items.type == 'pс') | (items.type == \"pc\"), \"type\" ] = \"pc\"\n",
        "items.loc[ items.type == 'рs3' , \"type\"] = \"ps3\""
      ],
      "execution_count": 21,
      "outputs": []
    },
    {
      "cell_type": "code",
      "metadata": {
        "trusted": true,
        "id": "cg2w1iIK0X_h",
        "colab_type": "code",
        "colab": {}
      },
      "source": [
        "group_sum = items.groupby([\"type\"]).agg({\"item_id\": \"count\"})\n",
        "group_sum = group_sum.reset_index()\n",
        "drop_cols = []\n",
        "for cat in group_sum.type.unique():\n",
        "    if group_sum.loc[(group_sum.type == cat), \"item_id\"].values[0] <40:\n",
        "        drop_cols.append(cat)\n",
        "items.name2 = items.name2.apply( lambda x: \"other\" if (x in drop_cols) else x )\n",
        "items = items.drop([\"type\"], axis = 1)"
      ],
      "execution_count": 22,
      "outputs": []
    },
    {
      "cell_type": "code",
      "metadata": {
        "trusted": true,
        "id": "c-izqtGS0X_k",
        "colab_type": "code",
        "colab": {
          "base_uri": "https://localhost:8080/",
          "height": 0
        },
        "outputId": "520e3d53-e1eb-4a04-953a-1f6f0991d491"
      },
      "source": [
        "items.name2 = LabelEncoder().fit_transform(items.name2)\n",
        "items.name3 = LabelEncoder().fit_transform(items.name3)\n",
        "\n",
        "items.drop([\"item_name\", \"name1\"],axis = 1, inplace= True)\n",
        "items.head()"
      ],
      "execution_count": 23,
      "outputs": [
        {
          "output_type": "execute_result",
          "data": {
            "text/html": [
              "<div>\n",
              "<style scoped>\n",
              "    .dataframe tbody tr th:only-of-type {\n",
              "        vertical-align: middle;\n",
              "    }\n",
              "\n",
              "    .dataframe tbody tr th {\n",
              "        vertical-align: top;\n",
              "    }\n",
              "\n",
              "    .dataframe thead th {\n",
              "        text-align: right;\n",
              "    }\n",
              "</style>\n",
              "<table border=\"1\" class=\"dataframe\">\n",
              "  <thead>\n",
              "    <tr style=\"text-align: right;\">\n",
              "      <th></th>\n",
              "      <th>item_id</th>\n",
              "      <th>item_category_id</th>\n",
              "      <th>name2</th>\n",
              "      <th>name3</th>\n",
              "    </tr>\n",
              "  </thead>\n",
              "  <tbody>\n",
              "    <tr>\n",
              "      <th>0</th>\n",
              "      <td>0</td>\n",
              "      <td>40</td>\n",
              "      <td>4</td>\n",
              "      <td>1331</td>\n",
              "    </tr>\n",
              "    <tr>\n",
              "      <th>1</th>\n",
              "      <td>1</td>\n",
              "      <td>76</td>\n",
              "      <td>64</td>\n",
              "      <td>42</td>\n",
              "    </tr>\n",
              "    <tr>\n",
              "      <th>2</th>\n",
              "      <td>2</td>\n",
              "      <td>40</td>\n",
              "      <td>4</td>\n",
              "      <td>1011</td>\n",
              "    </tr>\n",
              "    <tr>\n",
              "      <th>3</th>\n",
              "      <td>3</td>\n",
              "      <td>40</td>\n",
              "      <td>4</td>\n",
              "      <td>1010</td>\n",
              "    </tr>\n",
              "    <tr>\n",
              "      <th>4</th>\n",
              "      <td>4</td>\n",
              "      <td>40</td>\n",
              "      <td>4</td>\n",
              "      <td>1572</td>\n",
              "    </tr>\n",
              "  </tbody>\n",
              "</table>\n",
              "</div>"
            ],
            "text/plain": [
              "   item_id  item_category_id  name2  name3\n",
              "0        0                40      4   1331\n",
              "1        1                76     64     42\n",
              "2        2                40      4   1011\n",
              "3        3                40      4   1010\n",
              "4        4                40      4   1572"
            ]
          },
          "metadata": {
            "tags": []
          },
          "execution_count": 23
        }
      ]
    },
    {
      "cell_type": "markdown",
      "metadata": {
        "id": "bg8oaors0X_n",
        "colab_type": "text"
      },
      "source": [
        "# Preprocessing\n",
        "\n",
        "Create a matrix df with every combination of month, shop and item in order of increasing month. Item_cnt_day is summed into an item_cnt_month."
      ]
    },
    {
      "cell_type": "code",
      "metadata": {
        "trusted": true,
        "id": "28iMoGev0X_n",
        "colab_type": "code",
        "colab": {
          "base_uri": "https://localhost:8080/",
          "height": 0
        },
        "outputId": "791cd6fe-0cdc-4e36-ecfb-eff419c814d6"
      },
      "source": [
        "from itertools import product\n",
        "import time\n",
        "ts = time.time()\n",
        "matrix = []\n",
        "cols  = [\"date_block_num\", \"shop_id\", \"item_id\"]\n",
        "for i in range(34):\n",
        "    sales = train[train.date_block_num == i]\n",
        "    matrix.append( np.array(list( product( [i], sales.shop_id.unique(), sales.item_id.unique() ) ), dtype = np.int16) )\n",
        "\n",
        "matrix = pd.DataFrame( np.vstack(matrix), columns = cols )\n",
        "matrix[\"date_block_num\"] = matrix[\"date_block_num\"].astype(np.int8)\n",
        "matrix[\"shop_id\"] = matrix[\"shop_id\"].astype(np.int8)\n",
        "matrix[\"item_id\"] = matrix[\"item_id\"].astype(np.int16)\n",
        "matrix.sort_values( cols, inplace = True )\n",
        "time.time()- ts"
      ],
      "execution_count": 24,
      "outputs": [
        {
          "output_type": "execute_result",
          "data": {
            "text/plain": [
              "13.303861141204834"
            ]
          },
          "metadata": {
            "tags": []
          },
          "execution_count": 24
        }
      ]
    },
    {
      "cell_type": "code",
      "metadata": {
        "trusted": true,
        "id": "U97n7Q-50X_q",
        "colab_type": "code",
        "colab": {}
      },
      "source": [
        "# add revenue to train df\n",
        "train[\"revenue\"] = train[\"item_cnt_day\"] * train[\"item_price\"]"
      ],
      "execution_count": 25,
      "outputs": []
    },
    {
      "cell_type": "code",
      "metadata": {
        "trusted": true,
        "id": "_Dv7r2-J0X_s",
        "colab_type": "code",
        "colab": {
          "base_uri": "https://localhost:8080/",
          "height": 0
        },
        "outputId": "0f6a9e0e-67b4-4c66-807b-6ebc7f2076af"
      },
      "source": [
        "ts = time.time()\n",
        "group = train.groupby( [\"date_block_num\", \"shop_id\", \"item_id\"] ).agg( {\"item_cnt_day\": [\"sum\"]} )\n",
        "group.columns = [\"item_cnt_month\"]\n",
        "group.reset_index( inplace = True)\n",
        "matrix = pd.merge( matrix, group, on = cols, how = \"left\" )\n",
        "matrix[\"item_cnt_month\"] = matrix[\"item_cnt_month\"].fillna(0).astype(np.float16)\n",
        "time.time() - ts"
      ],
      "execution_count": 26,
      "outputs": [
        {
          "output_type": "execute_result",
          "data": {
            "text/plain": [
              "6.068187475204468"
            ]
          },
          "metadata": {
            "tags": []
          },
          "execution_count": 26
        }
      ]
    },
    {
      "cell_type": "markdown",
      "metadata": {
        "id": "oNuDEuBz0X_u",
        "colab_type": "text"
      },
      "source": [
        "Create a test set for month 34."
      ]
    },
    {
      "cell_type": "code",
      "metadata": {
        "trusted": true,
        "id": "xjoX70560X_v",
        "colab_type": "code",
        "colab": {}
      },
      "source": [
        "test[\"date_block_num\"] = 34\n",
        "test[\"date_block_num\"] = test[\"date_block_num\"].astype(np.int8)\n",
        "test[\"shop_id\"] = test.shop_id.astype(np.int8)\n",
        "test[\"item_id\"] = test.item_id.astype(np.int16)"
      ],
      "execution_count": 27,
      "outputs": []
    },
    {
      "cell_type": "markdown",
      "metadata": {
        "id": "fqQDuGfa0X_x",
        "colab_type": "text"
      },
      "source": [
        "Concatenate train and test sets."
      ]
    },
    {
      "cell_type": "code",
      "metadata": {
        "trusted": true,
        "id": "sZ_d2BaI0X_y",
        "colab_type": "code",
        "colab": {
          "base_uri": "https://localhost:8080/",
          "height": 0
        },
        "outputId": "003813b7-0ef6-4e6d-9c4c-5ad6f0defe4d"
      },
      "source": [
        "ts = time.time()\n",
        "\n",
        "matrix = pd.concat([matrix, test.drop([\"ID\"],axis = 1)], ignore_index=True, sort=False, keys=cols)\n",
        "matrix.fillna( 0, inplace = True )\n",
        "time.time() - ts"
      ],
      "execution_count": 28,
      "outputs": [
        {
          "output_type": "execute_result",
          "data": {
            "text/plain": [
              "0.08209419250488281"
            ]
          },
          "metadata": {
            "tags": []
          },
          "execution_count": 28
        }
      ]
    },
    {
      "cell_type": "markdown",
      "metadata": {
        "id": "aa9AhWMa0X_2",
        "colab_type": "text"
      },
      "source": [
        "Add shop, items and categories data onto matrix df."
      ]
    },
    {
      "cell_type": "code",
      "metadata": {
        "_uuid": "d629ff2d2480ee46fbb7e2d37f6b5fab8052498a",
        "_cell_guid": "79c7e3d0-c299-4dcb-8224-4455121ee9b0",
        "trusted": true,
        "id": "oz816hYF0X_3",
        "colab_type": "code",
        "colab": {
          "base_uri": "https://localhost:8080/",
          "height": 0
        },
        "outputId": "6a04f48a-5222-4052-d9e5-91c49d89fb92"
      },
      "source": [
        "ts = time.time()\n",
        "matrix = pd.merge( matrix, shops, on = [\"shop_id\"], how = \"left\" )\n",
        "matrix = pd.merge(matrix, items, on = [\"item_id\"], how = \"left\")\n",
        "matrix = pd.merge( matrix, cats, on = [\"item_category_id\"], how = \"left\" )\n",
        "matrix[\"shop_city\"] = matrix[\"shop_city\"].astype(np.int8)\n",
        "matrix[\"shop_category\"] = matrix[\"shop_category\"].astype(np.int8)\n",
        "matrix[\"item_category_id\"] = matrix[\"item_category_id\"].astype(np.int8)\n",
        "matrix[\"subtype_code\"] = matrix[\"subtype_code\"].astype(np.int8)\n",
        "matrix[\"name2\"] = matrix[\"name2\"].astype(np.int8)\n",
        "matrix[\"name3\"] = matrix[\"name3\"].astype(np.int16)\n",
        "matrix[\"type_code\"] = matrix[\"type_code\"].astype(np.int8)\n",
        "time.time() - ts"
      ],
      "execution_count": 29,
      "outputs": [
        {
          "output_type": "execute_result",
          "data": {
            "text/plain": [
              "4.685455083847046"
            ]
          },
          "metadata": {
            "tags": []
          },
          "execution_count": 29
        }
      ]
    },
    {
      "cell_type": "markdown",
      "metadata": {
        "id": "T5rpx4I50X_6",
        "colab_type": "text"
      },
      "source": [
        "Feature Engineering\n",
        "\n",
        "* Add lag features to matrix df."
      ]
    },
    {
      "cell_type": "code",
      "metadata": {
        "trusted": true,
        "id": "p5NWLQk40X_7",
        "colab_type": "code",
        "colab": {}
      },
      "source": [
        "# Define a lag feature function\n",
        "def lag_feature( df,lags, cols ):\n",
        "    for col in cols:\n",
        "        print(col)\n",
        "        tmp = df[[\"date_block_num\", \"shop_id\",\"item_id\",col ]]\n",
        "        for i in lags:\n",
        "            shifted = tmp.copy()\n",
        "            shifted.columns = [\"date_block_num\", \"shop_id\", \"item_id\", col + \"_lag_\"+str(i)]\n",
        "            shifted.date_block_num = shifted.date_block_num + i\n",
        "            df = pd.merge(df, shifted, on=['date_block_num','shop_id','item_id'], how='left')\n",
        "    return df"
      ],
      "execution_count": 30,
      "outputs": []
    },
    {
      "cell_type": "markdown",
      "metadata": {
        "id": "JW26EQWL0X_9",
        "colab_type": "text"
      },
      "source": [
        "Add item_cnt_month lag features."
      ]
    },
    {
      "cell_type": "code",
      "metadata": {
        "trusted": true,
        "id": "yHIwB9Ox0X_-",
        "colab_type": "code",
        "colab": {
          "base_uri": "https://localhost:8080/",
          "height": 0
        },
        "outputId": "9c08c6b6-dae9-431b-b570-3b642bda3da5"
      },
      "source": [
        "ts = time.time()\n",
        "matrix = lag_feature( matrix, [1,2,3], [\"item_cnt_month\"] )\n",
        "time.time() - ts"
      ],
      "execution_count": 31,
      "outputs": [
        {
          "output_type": "stream",
          "text": [
            "item_cnt_month\n"
          ],
          "name": "stdout"
        },
        {
          "output_type": "execute_result",
          "data": {
            "text/plain": [
              "22.844412088394165"
            ]
          },
          "metadata": {
            "tags": []
          },
          "execution_count": 31
        }
      ]
    },
    {
      "cell_type": "markdown",
      "metadata": {
        "id": "6SaDIo0H0YAA",
        "colab_type": "text"
      },
      "source": [
        "Add the previous month's average item_cnt."
      ]
    },
    {
      "cell_type": "code",
      "metadata": {
        "trusted": true,
        "id": "2oGBto7a0YAB",
        "colab_type": "code",
        "colab": {
          "base_uri": "https://localhost:8080/",
          "height": 0
        },
        "outputId": "6217e681-63ff-4d68-a215-2af6c3c0168c"
      },
      "source": [
        "ts = time.time()\n",
        "group = matrix.groupby( [\"date_block_num\"] ).agg({\"item_cnt_month\" : [\"mean\"]})\n",
        "group.columns = [\"date_avg_item_cnt\"]\n",
        "group.reset_index(inplace = True)\n",
        "\n",
        "matrix = pd.merge(matrix, group, on = [\"date_block_num\"], how = \"left\")\n",
        "matrix.date_avg_item_cnt = matrix[\"date_avg_item_cnt\"].astype(np.float16)\n",
        "matrix = lag_feature( matrix, [1], [\"date_avg_item_cnt\"] )\n",
        "matrix.drop( [\"date_avg_item_cnt\"], axis = 1, inplace = True )\n",
        "time.time() - ts"
      ],
      "execution_count": 32,
      "outputs": [
        {
          "output_type": "stream",
          "text": [
            "date_avg_item_cnt\n"
          ],
          "name": "stdout"
        },
        {
          "output_type": "execute_result",
          "data": {
            "text/plain": [
              "11.475639343261719"
            ]
          },
          "metadata": {
            "tags": []
          },
          "execution_count": 32
        }
      ]
    },
    {
      "cell_type": "markdown",
      "metadata": {
        "id": "hCy2-obf0YAD",
        "colab_type": "text"
      },
      "source": [
        "Add lag values of item_cnt_month for month / item_id."
      ]
    },
    {
      "cell_type": "code",
      "metadata": {
        "trusted": true,
        "id": "YiT0FCo20YAE",
        "colab_type": "code",
        "colab": {
          "base_uri": "https://localhost:8080/",
          "height": 0
        },
        "outputId": "5b82621b-5c3e-493a-ca50-18c25425b128"
      },
      "source": [
        "ts = time.time()\n",
        "group = matrix.groupby(['date_block_num', 'item_id']).agg({'item_cnt_month': ['mean']})\n",
        "group.columns = [ 'date_item_avg_item_cnt' ]\n",
        "group.reset_index(inplace=True)\n",
        "\n",
        "matrix = pd.merge(matrix, group, on=['date_block_num','item_id'], how='left')\n",
        "matrix.date_item_avg_item_cnt = matrix['date_item_avg_item_cnt'].astype(np.float16)\n",
        "matrix = lag_feature(matrix, [1,2,3], ['date_item_avg_item_cnt'])\n",
        "matrix.drop(['date_item_avg_item_cnt'], axis=1, inplace=True)\n",
        "time.time() - ts"
      ],
      "execution_count": 33,
      "outputs": [
        {
          "output_type": "stream",
          "text": [
            "date_item_avg_item_cnt\n"
          ],
          "name": "stdout"
        },
        {
          "output_type": "execute_result",
          "data": {
            "text/plain": [
              "28.458425760269165"
            ]
          },
          "metadata": {
            "tags": []
          },
          "execution_count": 33
        }
      ]
    },
    {
      "cell_type": "markdown",
      "metadata": {
        "id": "WWWcraRs0YAJ",
        "colab_type": "text"
      },
      "source": [
        "Add lag values for item_cnt_month for every month / shop combination."
      ]
    },
    {
      "cell_type": "code",
      "metadata": {
        "trusted": true,
        "id": "JDL7WW0R0YAJ",
        "colab_type": "code",
        "colab": {
          "base_uri": "https://localhost:8080/",
          "height": 0
        },
        "outputId": "d96bae8f-9d6c-46df-dacb-6f2f9edc714e"
      },
      "source": [
        "ts = time.time()\n",
        "group = matrix.groupby( [\"date_block_num\",\"shop_id\"] ).agg({\"item_cnt_month\" : [\"mean\"]})\n",
        "group.columns = [\"date_shop_avg_item_cnt\"]\n",
        "group.reset_index(inplace = True)\n",
        "\n",
        "matrix = pd.merge(matrix, group, on = [\"date_block_num\",\"shop_id\"], how = \"left\")\n",
        "matrix.date_avg_item_cnt = matrix[\"date_shop_avg_item_cnt\"].astype(np.float16)\n",
        "matrix = lag_feature( matrix, [1,2,3], [\"date_shop_avg_item_cnt\"] )\n",
        "matrix.drop( [\"date_shop_avg_item_cnt\"], axis = 1, inplace = True )\n",
        "time.time() - ts"
      ],
      "execution_count": 34,
      "outputs": [
        {
          "output_type": "stream",
          "text": [
            "/usr/local/lib/python3.6/dist-packages/ipykernel_launcher.py:7: UserWarning: Pandas doesn't allow columns to be created via a new attribute name - see https://pandas.pydata.org/pandas-docs/stable/indexing.html#attribute-access\n",
            "  import sys\n"
          ],
          "name": "stderr"
        },
        {
          "output_type": "stream",
          "text": [
            "date_shop_avg_item_cnt\n"
          ],
          "name": "stdout"
        },
        {
          "output_type": "execute_result",
          "data": {
            "text/plain": [
              "28.992920398712158"
            ]
          },
          "metadata": {
            "tags": []
          },
          "execution_count": 34
        }
      ]
    },
    {
      "cell_type": "markdown",
      "metadata": {
        "id": "DB2RZHEE0YAL",
        "colab_type": "text"
      },
      "source": [
        "Add lag values for item_cnt_month for month/shop/item."
      ]
    },
    {
      "cell_type": "code",
      "metadata": {
        "trusted": true,
        "id": "MkLnoC4n0YAM",
        "colab_type": "code",
        "colab": {
          "base_uri": "https://localhost:8080/",
          "height": 0
        },
        "outputId": "1537f086-3b8b-49a4-9fba-454643489418"
      },
      "source": [
        "ts = time.time()\n",
        "group = matrix.groupby( [\"date_block_num\",\"shop_id\",\"item_id\"] ).agg({\"item_cnt_month\" : [\"mean\"]})\n",
        "group.columns = [\"date_shop_item_avg_item_cnt\"]\n",
        "group.reset_index(inplace = True)\n",
        "\n",
        "matrix = pd.merge(matrix, group, on = [\"date_block_num\",\"shop_id\",\"item_id\"], how = \"left\")\n",
        "matrix.date_avg_item_cnt = matrix[\"date_shop_item_avg_item_cnt\"].astype(np.float16)\n",
        "matrix = lag_feature( matrix, [1,2,3], [\"date_shop_item_avg_item_cnt\"] )\n",
        "matrix.drop( [\"date_shop_item_avg_item_cnt\"], axis = 1, inplace = True )\n",
        "time.time() - ts"
      ],
      "execution_count": 35,
      "outputs": [
        {
          "output_type": "stream",
          "text": [
            "/usr/local/lib/python3.6/dist-packages/ipykernel_launcher.py:7: UserWarning: Pandas doesn't allow columns to be created via a new attribute name - see https://pandas.pydata.org/pandas-docs/stable/indexing.html#attribute-access\n",
            "  import sys\n"
          ],
          "name": "stderr"
        },
        {
          "output_type": "stream",
          "text": [
            "date_shop_item_avg_item_cnt\n"
          ],
          "name": "stdout"
        },
        {
          "output_type": "execute_result",
          "data": {
            "text/plain": [
              "42.219813108444214"
            ]
          },
          "metadata": {
            "tags": []
          },
          "execution_count": 35
        }
      ]
    },
    {
      "cell_type": "markdown",
      "metadata": {
        "id": "B6xyRfnN0YAQ",
        "colab_type": "text"
      },
      "source": [
        "Add lag values for item_cnt_month for month/shop/item subtype."
      ]
    },
    {
      "cell_type": "code",
      "metadata": {
        "trusted": true,
        "id": "VWj0n8op0YAQ",
        "colab_type": "code",
        "colab": {
          "base_uri": "https://localhost:8080/",
          "height": 0
        },
        "outputId": "8516462c-d661-4629-c74e-12bb6b3caf12"
      },
      "source": [
        "ts = time.time()\n",
        "group = matrix.groupby(['date_block_num', 'shop_id', 'subtype_code']).agg({'item_cnt_month': ['mean']})\n",
        "group.columns = ['date_shop_subtype_avg_item_cnt']\n",
        "group.reset_index(inplace=True)\n",
        "\n",
        "matrix = pd.merge(matrix, group, on=['date_block_num', 'shop_id', 'subtype_code'], how='left')\n",
        "matrix.date_shop_subtype_avg_item_cnt = matrix['date_shop_subtype_avg_item_cnt'].astype(np.float16)\n",
        "matrix = lag_feature(matrix, [1], ['date_shop_subtype_avg_item_cnt'])\n",
        "matrix.drop(['date_shop_subtype_avg_item_cnt'], axis=1, inplace=True)\n",
        "time.time() - ts"
      ],
      "execution_count": 36,
      "outputs": [
        {
          "output_type": "stream",
          "text": [
            "date_shop_subtype_avg_item_cnt\n"
          ],
          "name": "stdout"
        },
        {
          "output_type": "execute_result",
          "data": {
            "text/plain": [
              "15.879883766174316"
            ]
          },
          "metadata": {
            "tags": []
          },
          "execution_count": 36
        }
      ]
    },
    {
      "cell_type": "markdown",
      "metadata": {
        "id": "J9Gchvd60YAT",
        "colab_type": "text"
      },
      "source": [
        "Add lag values for item_cnt_month for month/city."
      ]
    },
    {
      "cell_type": "code",
      "metadata": {
        "trusted": true,
        "id": "bS4h44do0YAT",
        "colab_type": "code",
        "colab": {
          "base_uri": "https://localhost:8080/",
          "height": 0
        },
        "outputId": "bd1237c0-283c-4569-af5b-44b5a07b5ec0"
      },
      "source": [
        "ts = time.time()\n",
        "group = matrix.groupby(['date_block_num', 'shop_city']).agg({'item_cnt_month': ['mean']})\n",
        "group.columns = ['date_city_avg_item_cnt']\n",
        "group.reset_index(inplace=True)\n",
        "\n",
        "matrix = pd.merge(matrix, group, on=['date_block_num', \"shop_city\"], how='left')\n",
        "matrix.date_city_avg_item_cnt = matrix['date_city_avg_item_cnt'].astype(np.float16)\n",
        "matrix = lag_feature(matrix, [1], ['date_city_avg_item_cnt'])\n",
        "matrix.drop(['date_city_avg_item_cnt'], axis=1, inplace=True)\n",
        "time.time() - ts"
      ],
      "execution_count": 37,
      "outputs": [
        {
          "output_type": "execute_result",
          "data": {
            "text/plain": [
              "15.575032234191895"
            ]
          },
          "metadata": {
            "tags": []
          },
          "execution_count": 37
        }
      ]
    },
    {
      "cell_type": "markdown",
      "metadata": {
        "id": "ziv71O6w0YAW",
        "colab_type": "text"
      },
      "source": [
        "Add lag values for item_cnt_month for month/city/item."
      ]
    },
    {
      "cell_type": "code",
      "metadata": {
        "trusted": true,
        "id": "m7hKwuu90YAW",
        "colab_type": "code",
        "colab": {
          "base_uri": "https://localhost:8080/",
          "height": 0
        },
        "outputId": "e5355d6b-3fc3-4551-a972-eacd56fe94e1"
      },
      "source": [
        "ts = time.time()\n",
        "group = matrix.groupby(['date_block_num', 'item_id', 'shop_city']).agg({'item_cnt_month': ['mean']})\n",
        "group.columns = [ 'date_item_city_avg_item_cnt' ]\n",
        "group.reset_index(inplace=True)\n",
        "\n",
        "matrix = pd.merge(matrix, group, on=['date_block_num', 'item_id', 'shop_city'], how='left')\n",
        "matrix.date_item_city_avg_item_cnt = matrix['date_item_city_avg_item_cnt'].astype(np.float16)\n",
        "matrix = lag_feature(matrix, [1], ['date_item_city_avg_item_cnt'])\n",
        "matrix.drop(['date_item_city_avg_item_cnt'], axis=1, inplace=True)\n",
        "time.time() - ts"
      ],
      "execution_count": 38,
      "outputs": [
        {
          "output_type": "stream",
          "text": [
            "date_item_city_avg_item_cnt\n"
          ],
          "name": "stdout"
        },
        {
          "output_type": "execute_result",
          "data": {
            "text/plain": [
              "24.8846492767334"
            ]
          },
          "metadata": {
            "tags": []
          },
          "execution_count": 38
        }
      ]
    },
    {
      "cell_type": "markdown",
      "metadata": {
        "id": "-IuWOHUc0YAZ",
        "colab_type": "text"
      },
      "source": [
        "* Add average item price on to matix df. \n",
        "* Add lag values of item price per month.\n",
        "* Add delta price values - how current month average pirce relates to global average."
      ]
    },
    {
      "cell_type": "code",
      "metadata": {
        "trusted": true,
        "id": "rHMVz80m0YAa",
        "colab_type": "code",
        "colab": {
          "base_uri": "https://localhost:8080/",
          "height": 0
        },
        "outputId": "d702b596-ae84-4e7b-f238-27667a5b72c6"
      },
      "source": [
        "ts = time.time()\n",
        "group = train.groupby( [\"item_id\"] ).agg({\"item_price\": [\"mean\"]})\n",
        "group.columns = [\"item_avg_item_price\"]\n",
        "group.reset_index(inplace = True)\n",
        "\n",
        "matrix = matrix.merge( group, on = [\"item_id\"], how = \"left\" )\n",
        "matrix[\"item_avg_item_price\"] = matrix.item_avg_item_price.astype(np.float16)\n",
        "\n",
        "\n",
        "group = train.groupby( [\"date_block_num\",\"item_id\"] ).agg( {\"item_price\": [\"mean\"]} )\n",
        "group.columns = [\"date_item_avg_item_price\"]\n",
        "group.reset_index(inplace = True)\n",
        "\n",
        "matrix = matrix.merge(group, on = [\"date_block_num\",\"item_id\"], how = \"left\")\n",
        "matrix[\"date_item_avg_item_price\"] = matrix.date_item_avg_item_price.astype(np.float16)\n",
        "lags = [1, 2, 3]\n",
        "matrix = lag_feature( matrix, lags, [\"date_item_avg_item_price\"] )\n",
        "for i in lags:\n",
        "    matrix[\"delta_price_lag_\" + str(i) ] = (matrix[\"date_item_avg_item_price_lag_\" + str(i)]- matrix[\"item_avg_item_price\"] )/ matrix[\"item_avg_item_price\"]\n",
        "\n",
        "def select_trends(row) :\n",
        "    for i in lags:\n",
        "        if row[\"delta_price_lag_\" + str(i)]:\n",
        "            return row[\"delta_price_lag_\" + str(i)]\n",
        "    return 0\n",
        "\n",
        "matrix[\"delta_price_lag\"] = matrix.apply(select_trends, axis = 1)\n",
        "matrix[\"delta_price_lag\"] = matrix.delta_price_lag.astype( np.float16 )\n",
        "matrix[\"delta_price_lag\"].fillna( 0 ,inplace = True)\n",
        "\n",
        "features_to_drop = [\"item_avg_item_price\", \"date_item_avg_item_price\"]\n",
        "for i in lags:\n",
        "    features_to_drop.append(\"date_item_avg_item_price_lag_\" + str(i) )\n",
        "    features_to_drop.append(\"delta_price_lag_\" + str(i) )\n",
        "matrix.drop(features_to_drop, axis = 1, inplace = True)\n",
        "time.time() - ts"
      ],
      "execution_count": 39,
      "outputs": [
        {
          "output_type": "stream",
          "text": [
            "date_item_avg_item_price\n"
          ],
          "name": "stdout"
        },
        {
          "output_type": "execute_result",
          "data": {
            "text/plain": [
              "339.13366866111755"
            ]
          },
          "metadata": {
            "tags": []
          },
          "execution_count": 39
        }
      ]
    },
    {
      "cell_type": "markdown",
      "metadata": {
        "id": "BKApaESm0YAc",
        "colab_type": "text"
      },
      "source": [
        "* Add total shop revenue per month to matix df. \n",
        "* Add lag values of revenue per month.\n",
        "* Add delta revenue values - how current month revenue relates to global average."
      ]
    },
    {
      "cell_type": "code",
      "metadata": {
        "trusted": true,
        "id": "kb9VwcU-0YAf",
        "colab_type": "code",
        "colab": {
          "base_uri": "https://localhost:8080/",
          "height": 0
        },
        "outputId": "5d0b700c-2f8d-4f35-a99f-977e12739131"
      },
      "source": [
        "ts = time.time()\n",
        "group = train.groupby( [\"date_block_num\",\"shop_id\"] ).agg({\"revenue\": [\"sum\"] })\n",
        "group.columns = [\"date_shop_revenue\"]\n",
        "group.reset_index(inplace = True)\n",
        "\n",
        "matrix = matrix.merge( group , on = [\"date_block_num\", \"shop_id\"], how = \"left\" )\n",
        "matrix['date_shop_revenue'] = matrix['date_shop_revenue'].astype(np.float32)\n",
        "\n",
        "group = group.groupby([\"shop_id\"]).agg({ \"date_block_num\":[\"mean\"] })\n",
        "group.columns = [\"shop_avg_revenue\"]\n",
        "group.reset_index(inplace = True )\n",
        "\n",
        "matrix = matrix.merge( group, on = [\"shop_id\"], how = \"left\" )\n",
        "matrix[\"shop_avg_revenue\"] = matrix.shop_avg_revenue.astype(np.float32)\n",
        "matrix[\"delta_revenue\"] = (matrix['date_shop_revenue'] - matrix['shop_avg_revenue']) / matrix['shop_avg_revenue']\n",
        "matrix[\"delta_revenue\"] = matrix[\"delta_revenue\"]. astype(np.float32)\n",
        "\n",
        "matrix = lag_feature(matrix, [1], [\"delta_revenue\"])\n",
        "matrix[\"delta_revenue_lag_1\"] = matrix[\"delta_revenue_lag_1\"].astype(np.float32)\n",
        "matrix.drop( [\"date_shop_revenue\", \"shop_avg_revenue\", \"delta_revenue\"] ,axis = 1, inplace = True)\n",
        "time.time() - ts"
      ],
      "execution_count": 40,
      "outputs": [
        {
          "output_type": "stream",
          "text": [
            "delta_revenue\n"
          ],
          "name": "stdout"
        },
        {
          "output_type": "execute_result",
          "data": {
            "text/plain": [
              "19.330235242843628"
            ]
          },
          "metadata": {
            "tags": []
          },
          "execution_count": 40
        }
      ]
    },
    {
      "cell_type": "markdown",
      "metadata": {
        "id": "eb4jr-DB0YAi",
        "colab_type": "text"
      },
      "source": [
        "Add month and number of days in each month to matrix df."
      ]
    },
    {
      "cell_type": "code",
      "metadata": {
        "trusted": true,
        "id": "do5Vjx2j0YAi",
        "colab_type": "code",
        "colab": {}
      },
      "source": [
        "matrix[\"month\"] = matrix[\"date_block_num\"] % 12\n",
        "days = pd.Series([31,28,31,30,31,30,31,31,30,31,30,31])\n",
        "matrix[\"days\"] = matrix[\"month\"].map(days).astype(np.int8)"
      ],
      "execution_count": 41,
      "outputs": []
    },
    {
      "cell_type": "markdown",
      "metadata": {
        "id": "iR6QVNL10YAq",
        "colab_type": "text"
      },
      "source": [
        "Add the month of each shop and item first sale."
      ]
    },
    {
      "cell_type": "code",
      "metadata": {
        "trusted": true,
        "id": "Xin9VX4Q0YAq",
        "colab_type": "code",
        "colab": {
          "base_uri": "https://localhost:8080/",
          "height": 0
        },
        "outputId": "786a91f4-17ce-4bbf-fd7f-0f3d768af363"
      },
      "source": [
        "ts = time.time()\n",
        "matrix[\"item_shop_first_sale\"] = matrix[\"date_block_num\"] - matrix.groupby([\"item_id\",\"shop_id\"])[\"date_block_num\"].transform('min')\n",
        "matrix[\"item_first_sale\"] = matrix[\"date_block_num\"] - matrix.groupby([\"item_id\"])[\"date_block_num\"].transform('min')\n",
        "time.time() - ts"
      ],
      "execution_count": 42,
      "outputs": [
        {
          "output_type": "execute_result",
          "data": {
            "text/plain": [
              "2.3243157863616943"
            ]
          },
          "metadata": {
            "tags": []
          },
          "execution_count": 42
        }
      ]
    },
    {
      "cell_type": "markdown",
      "metadata": {
        "id": "0JrGsIbp0YAw",
        "colab_type": "text"
      },
      "source": [
        "Delete first three months from matrix. They don't have lag values."
      ]
    },
    {
      "cell_type": "code",
      "metadata": {
        "trusted": true,
        "id": "R4yXPVYE0YAw",
        "colab_type": "code",
        "colab": {
          "base_uri": "https://localhost:8080/",
          "height": 0
        },
        "outputId": "f949bb19-f41e-4acf-9026-00b727ce1f9e"
      },
      "source": [
        "ts = time.time()\n",
        "matrix = matrix[matrix[\"date_block_num\"] > 3]\n",
        "time.time() - ts"
      ],
      "execution_count": 43,
      "outputs": [
        {
          "output_type": "execute_result",
          "data": {
            "text/plain": [
              "1.1848714351654053"
            ]
          },
          "metadata": {
            "tags": []
          },
          "execution_count": 43
        }
      ]
    },
    {
      "cell_type": "code",
      "metadata": {
        "trusted": true,
        "id": "-m-_AXSn0YA2",
        "colab_type": "code",
        "colab": {
          "base_uri": "https://localhost:8080/",
          "height": 0
        },
        "outputId": "a3df96fd-30e0-4b13-dc50-c5de380afb3c"
      },
      "source": [
        "matrix.head().T"
      ],
      "execution_count": 44,
      "outputs": [
        {
          "output_type": "execute_result",
          "data": {
            "text/html": [
              "<div>\n",
              "<style scoped>\n",
              "    .dataframe tbody tr th:only-of-type {\n",
              "        vertical-align: middle;\n",
              "    }\n",
              "\n",
              "    .dataframe tbody tr th {\n",
              "        vertical-align: top;\n",
              "    }\n",
              "\n",
              "    .dataframe thead th {\n",
              "        text-align: right;\n",
              "    }\n",
              "</style>\n",
              "<table border=\"1\" class=\"dataframe\">\n",
              "  <thead>\n",
              "    <tr style=\"text-align: right;\">\n",
              "      <th></th>\n",
              "      <th>1497465</th>\n",
              "      <th>1497466</th>\n",
              "      <th>1497467</th>\n",
              "      <th>1497468</th>\n",
              "      <th>1497469</th>\n",
              "    </tr>\n",
              "  </thead>\n",
              "  <tbody>\n",
              "    <tr>\n",
              "      <th>date_block_num</th>\n",
              "      <td>4.000000</td>\n",
              "      <td>4.000000</td>\n",
              "      <td>4.0</td>\n",
              "      <td>4.000000</td>\n",
              "      <td>4.000000</td>\n",
              "    </tr>\n",
              "    <tr>\n",
              "      <th>shop_id</th>\n",
              "      <td>2.000000</td>\n",
              "      <td>2.000000</td>\n",
              "      <td>2.0</td>\n",
              "      <td>2.000000</td>\n",
              "      <td>2.000000</td>\n",
              "    </tr>\n",
              "    <tr>\n",
              "      <th>item_id</th>\n",
              "      <td>27.000000</td>\n",
              "      <td>28.000000</td>\n",
              "      <td>29.0</td>\n",
              "      <td>30.000000</td>\n",
              "      <td>31.000000</td>\n",
              "    </tr>\n",
              "    <tr>\n",
              "      <th>item_cnt_month</th>\n",
              "      <td>0.000000</td>\n",
              "      <td>0.000000</td>\n",
              "      <td>0.0</td>\n",
              "      <td>0.000000</td>\n",
              "      <td>0.000000</td>\n",
              "    </tr>\n",
              "    <tr>\n",
              "      <th>shop_category</th>\n",
              "      <td>4.000000</td>\n",
              "      <td>4.000000</td>\n",
              "      <td>4.0</td>\n",
              "      <td>4.000000</td>\n",
              "      <td>4.000000</td>\n",
              "    </tr>\n",
              "    <tr>\n",
              "      <th>shop_city</th>\n",
              "      <td>0.000000</td>\n",
              "      <td>0.000000</td>\n",
              "      <td>0.0</td>\n",
              "      <td>0.000000</td>\n",
              "      <td>0.000000</td>\n",
              "    </tr>\n",
              "    <tr>\n",
              "      <th>item_category_id</th>\n",
              "      <td>19.000000</td>\n",
              "      <td>30.000000</td>\n",
              "      <td>23.0</td>\n",
              "      <td>40.000000</td>\n",
              "      <td>37.000000</td>\n",
              "    </tr>\n",
              "    <tr>\n",
              "      <th>name2</th>\n",
              "      <td>76.000000</td>\n",
              "      <td>107.000000</td>\n",
              "      <td>123.0</td>\n",
              "      <td>4.000000</td>\n",
              "      <td>4.000000</td>\n",
              "    </tr>\n",
              "    <tr>\n",
              "      <th>name3</th>\n",
              "      <td>42.000000</td>\n",
              "      <td>42.000000</td>\n",
              "      <td>42.0</td>\n",
              "      <td>42.000000</td>\n",
              "      <td>562.000000</td>\n",
              "    </tr>\n",
              "    <tr>\n",
              "      <th>subtype_code</th>\n",
              "      <td>10.000000</td>\n",
              "      <td>55.000000</td>\n",
              "      <td>16.0</td>\n",
              "      <td>4.000000</td>\n",
              "      <td>1.000000</td>\n",
              "    </tr>\n",
              "    <tr>\n",
              "      <th>type_code</th>\n",
              "      <td>3.000000</td>\n",
              "      <td>3.000000</td>\n",
              "      <td>3.0</td>\n",
              "      <td>5.000000</td>\n",
              "      <td>5.000000</td>\n",
              "    </tr>\n",
              "    <tr>\n",
              "      <th>item_cnt_month_lag_1</th>\n",
              "      <td>0.000000</td>\n",
              "      <td>0.000000</td>\n",
              "      <td>NaN</td>\n",
              "      <td>0.000000</td>\n",
              "      <td>1.000000</td>\n",
              "    </tr>\n",
              "    <tr>\n",
              "      <th>item_cnt_month_lag_2</th>\n",
              "      <td>0.000000</td>\n",
              "      <td>0.000000</td>\n",
              "      <td>NaN</td>\n",
              "      <td>1.000000</td>\n",
              "      <td>1.000000</td>\n",
              "    </tr>\n",
              "    <tr>\n",
              "      <th>item_cnt_month_lag_3</th>\n",
              "      <td>0.000000</td>\n",
              "      <td>0.000000</td>\n",
              "      <td>NaN</td>\n",
              "      <td>0.000000</td>\n",
              "      <td>4.000000</td>\n",
              "    </tr>\n",
              "    <tr>\n",
              "      <th>date_avg_item_cnt_lag_1</th>\n",
              "      <td>0.286865</td>\n",
              "      <td>0.286865</td>\n",
              "      <td>NaN</td>\n",
              "      <td>0.286865</td>\n",
              "      <td>0.286865</td>\n",
              "    </tr>\n",
              "    <tr>\n",
              "      <th>date_item_avg_item_cnt_lag_1</th>\n",
              "      <td>0.021744</td>\n",
              "      <td>0.130493</td>\n",
              "      <td>NaN</td>\n",
              "      <td>2.826172</td>\n",
              "      <td>1.260742</td>\n",
              "    </tr>\n",
              "    <tr>\n",
              "      <th>date_item_avg_item_cnt_lag_2</th>\n",
              "      <td>0.086975</td>\n",
              "      <td>0.152222</td>\n",
              "      <td>NaN</td>\n",
              "      <td>11.046875</td>\n",
              "      <td>4.781250</td>\n",
              "    </tr>\n",
              "    <tr>\n",
              "      <th>date_item_avg_item_cnt_lag_3</th>\n",
              "      <td>0.065247</td>\n",
              "      <td>0.173950</td>\n",
              "      <td>NaN</td>\n",
              "      <td>18.734375</td>\n",
              "      <td>13.648438</td>\n",
              "    </tr>\n",
              "    <tr>\n",
              "      <th>date_shop_avg_item_cnt_lag_1</th>\n",
              "      <td>0.071838</td>\n",
              "      <td>0.071838</td>\n",
              "      <td>NaN</td>\n",
              "      <td>0.071838</td>\n",
              "      <td>0.071838</td>\n",
              "    </tr>\n",
              "    <tr>\n",
              "      <th>date_shop_avg_item_cnt_lag_2</th>\n",
              "      <td>0.091064</td>\n",
              "      <td>0.091064</td>\n",
              "      <td>NaN</td>\n",
              "      <td>0.091064</td>\n",
              "      <td>0.091064</td>\n",
              "    </tr>\n",
              "    <tr>\n",
              "      <th>date_shop_avg_item_cnt_lag_3</th>\n",
              "      <td>0.059875</td>\n",
              "      <td>0.059875</td>\n",
              "      <td>NaN</td>\n",
              "      <td>0.059875</td>\n",
              "      <td>0.059875</td>\n",
              "    </tr>\n",
              "    <tr>\n",
              "      <th>date_shop_item_avg_item_cnt_lag_1</th>\n",
              "      <td>0.000000</td>\n",
              "      <td>0.000000</td>\n",
              "      <td>NaN</td>\n",
              "      <td>0.000000</td>\n",
              "      <td>1.000000</td>\n",
              "    </tr>\n",
              "    <tr>\n",
              "      <th>date_shop_item_avg_item_cnt_lag_2</th>\n",
              "      <td>0.000000</td>\n",
              "      <td>0.000000</td>\n",
              "      <td>NaN</td>\n",
              "      <td>1.000000</td>\n",
              "      <td>1.000000</td>\n",
              "    </tr>\n",
              "    <tr>\n",
              "      <th>date_shop_item_avg_item_cnt_lag_3</th>\n",
              "      <td>0.000000</td>\n",
              "      <td>0.000000</td>\n",
              "      <td>NaN</td>\n",
              "      <td>0.000000</td>\n",
              "      <td>4.000000</td>\n",
              "    </tr>\n",
              "    <tr>\n",
              "      <th>date_shop_subtype_avg_item_cnt_lag_1</th>\n",
              "      <td>0.449463</td>\n",
              "      <td>0.387207</td>\n",
              "      <td>NaN</td>\n",
              "      <td>0.018585</td>\n",
              "      <td>0.035919</td>\n",
              "    </tr>\n",
              "    <tr>\n",
              "      <th>date_city_avg_item_cnt_lag_1</th>\n",
              "      <td>0.071838</td>\n",
              "      <td>0.071838</td>\n",
              "      <td>NaN</td>\n",
              "      <td>0.071838</td>\n",
              "      <td>0.071838</td>\n",
              "    </tr>\n",
              "    <tr>\n",
              "      <th>date_item_city_avg_item_cnt_lag_1</th>\n",
              "      <td>0.000000</td>\n",
              "      <td>0.000000</td>\n",
              "      <td>NaN</td>\n",
              "      <td>0.000000</td>\n",
              "      <td>1.000000</td>\n",
              "    </tr>\n",
              "    <tr>\n",
              "      <th>delta_price_lag</th>\n",
              "      <td>0.367676</td>\n",
              "      <td>0.256348</td>\n",
              "      <td>0.0</td>\n",
              "      <td>0.212402</td>\n",
              "      <td>0.191040</td>\n",
              "    </tr>\n",
              "    <tr>\n",
              "      <th>delta_revenue_lag_1</th>\n",
              "      <td>37326.816406</td>\n",
              "      <td>37326.816406</td>\n",
              "      <td>NaN</td>\n",
              "      <td>37326.816406</td>\n",
              "      <td>37326.816406</td>\n",
              "    </tr>\n",
              "    <tr>\n",
              "      <th>month</th>\n",
              "      <td>4.000000</td>\n",
              "      <td>4.000000</td>\n",
              "      <td>4.0</td>\n",
              "      <td>4.000000</td>\n",
              "      <td>4.000000</td>\n",
              "    </tr>\n",
              "    <tr>\n",
              "      <th>days</th>\n",
              "      <td>31.000000</td>\n",
              "      <td>31.000000</td>\n",
              "      <td>31.0</td>\n",
              "      <td>31.000000</td>\n",
              "      <td>31.000000</td>\n",
              "    </tr>\n",
              "    <tr>\n",
              "      <th>item_shop_first_sale</th>\n",
              "      <td>4.000000</td>\n",
              "      <td>4.000000</td>\n",
              "      <td>4.0</td>\n",
              "      <td>3.000000</td>\n",
              "      <td>3.000000</td>\n",
              "    </tr>\n",
              "    <tr>\n",
              "      <th>item_first_sale</th>\n",
              "      <td>4.000000</td>\n",
              "      <td>4.000000</td>\n",
              "      <td>4.0</td>\n",
              "      <td>3.000000</td>\n",
              "      <td>3.000000</td>\n",
              "    </tr>\n",
              "  </tbody>\n",
              "</table>\n",
              "</div>"
            ],
            "text/plain": [
              "                                           1497465  ...       1497469\n",
              "date_block_num                            4.000000  ...      4.000000\n",
              "shop_id                                   2.000000  ...      2.000000\n",
              "item_id                                  27.000000  ...     31.000000\n",
              "item_cnt_month                            0.000000  ...      0.000000\n",
              "shop_category                             4.000000  ...      4.000000\n",
              "shop_city                                 0.000000  ...      0.000000\n",
              "item_category_id                         19.000000  ...     37.000000\n",
              "name2                                    76.000000  ...      4.000000\n",
              "name3                                    42.000000  ...    562.000000\n",
              "subtype_code                             10.000000  ...      1.000000\n",
              "type_code                                 3.000000  ...      5.000000\n",
              "item_cnt_month_lag_1                      0.000000  ...      1.000000\n",
              "item_cnt_month_lag_2                      0.000000  ...      1.000000\n",
              "item_cnt_month_lag_3                      0.000000  ...      4.000000\n",
              "date_avg_item_cnt_lag_1                   0.286865  ...      0.286865\n",
              "date_item_avg_item_cnt_lag_1              0.021744  ...      1.260742\n",
              "date_item_avg_item_cnt_lag_2              0.086975  ...      4.781250\n",
              "date_item_avg_item_cnt_lag_3              0.065247  ...     13.648438\n",
              "date_shop_avg_item_cnt_lag_1              0.071838  ...      0.071838\n",
              "date_shop_avg_item_cnt_lag_2              0.091064  ...      0.091064\n",
              "date_shop_avg_item_cnt_lag_3              0.059875  ...      0.059875\n",
              "date_shop_item_avg_item_cnt_lag_1         0.000000  ...      1.000000\n",
              "date_shop_item_avg_item_cnt_lag_2         0.000000  ...      1.000000\n",
              "date_shop_item_avg_item_cnt_lag_3         0.000000  ...      4.000000\n",
              "date_shop_subtype_avg_item_cnt_lag_1      0.449463  ...      0.035919\n",
              "date_city_avg_item_cnt_lag_1              0.071838  ...      0.071838\n",
              "date_item_city_avg_item_cnt_lag_1         0.000000  ...      1.000000\n",
              "delta_price_lag                           0.367676  ...      0.191040\n",
              "delta_revenue_lag_1                   37326.816406  ...  37326.816406\n",
              "month                                     4.000000  ...      4.000000\n",
              "days                                     31.000000  ...     31.000000\n",
              "item_shop_first_sale                      4.000000  ...      3.000000\n",
              "item_first_sale                           4.000000  ...      3.000000\n",
              "\n",
              "[33 rows x 5 columns]"
            ]
          },
          "metadata": {
            "tags": []
          },
          "execution_count": 44
        }
      ]
    },
    {
      "cell_type": "markdown",
      "metadata": {
        "id": "UVUx_F970YA7",
        "colab_type": "text"
      },
      "source": [
        "# Modelling"
      ]
    },
    {
      "cell_type": "code",
      "metadata": {
        "trusted": true,
        "id": "I-CWjZE-0YA8",
        "colab_type": "code",
        "colab": {}
      },
      "source": [
        "import gc\n",
        "import pickle\n",
        "from xgboost import XGBRegressor\n",
        "from matplotlib.pylab import rcParams\n",
        "rcParams['figure.figsize'] = 12, 4"
      ],
      "execution_count": 45,
      "outputs": []
    },
    {
      "cell_type": "code",
      "metadata": {
        "trusted": true,
        "id": "1beEBKr40YBB",
        "colab_type": "code",
        "colab": {
          "base_uri": "https://localhost:8080/",
          "height": 33
        },
        "outputId": "37af75b0-47e6-4638-a950-4235a9e1e778"
      },
      "source": [
        "data = matrix.copy()\n",
        "del matrix\n",
        "gc.collect()"
      ],
      "execution_count": 46,
      "outputs": [
        {
          "output_type": "execute_result",
          "data": {
            "text/plain": [
              "34"
            ]
          },
          "metadata": {
            "tags": []
          },
          "execution_count": 46
        }
      ]
    },
    {
      "cell_type": "code",
      "metadata": {
        "trusted": true,
        "id": "tOpyJ5Sz0YBF",
        "colab_type": "code",
        "colab": {
          "base_uri": "https://localhost:8080/",
          "height": 33
        },
        "outputId": "1e62ef4b-7377-44aa-aac4-70330cb0a9b8"
      },
      "source": [
        "data[data[\"date_block_num\"]==34].shape"
      ],
      "execution_count": 47,
      "outputs": [
        {
          "output_type": "execute_result",
          "data": {
            "text/plain": [
              "(214200, 33)"
            ]
          },
          "metadata": {
            "tags": []
          },
          "execution_count": 47
        }
      ]
    },
    {
      "cell_type": "markdown",
      "metadata": {
        "id": "OuB11ipK0YBJ",
        "colab_type": "text"
      },
      "source": [
        "Use month 34 as validation for training."
      ]
    },
    {
      "cell_type": "code",
      "metadata": {
        "trusted": true,
        "id": "r6_Q2IB40YBK",
        "colab_type": "code",
        "colab": {}
      },
      "source": [
        "X_train = data[data.date_block_num < 33].drop(['item_cnt_month'], axis=1)\n",
        "Y_train = data[data.date_block_num < 33]['item_cnt_month']\n",
        "X_valid = data[data.date_block_num == 33].drop(['item_cnt_month'], axis=1)\n",
        "Y_valid = data[data.date_block_num == 33]['item_cnt_month']\n",
        "X_test = data[data.date_block_num == 34].drop(['item_cnt_month'], axis=1)"
      ],
      "execution_count": 48,
      "outputs": []
    },
    {
      "cell_type": "code",
      "metadata": {
        "trusted": true,
        "id": "PnuSyyy90YBM",
        "colab_type": "code",
        "colab": {}
      },
      "source": [
        "Y_train = Y_train.clip(0, 20)\n",
        "Y_valid = Y_valid.clip(0, 20)"
      ],
      "execution_count": 49,
      "outputs": []
    },
    {
      "cell_type": "code",
      "metadata": {
        "trusted": true,
        "id": "fHmTz1F80YBR",
        "colab_type": "code",
        "colab": {}
      },
      "source": [
        "del data\n",
        "gc.collect();"
      ],
      "execution_count": 50,
      "outputs": []
    },
    {
      "cell_type": "code",
      "metadata": {
        "trusted": true,
        "id": "eKlHVOKV0YBW",
        "colab_type": "code",
        "colab": {
          "base_uri": "https://localhost:8080/",
          "height": 371
        },
        "outputId": "06406e70-aa48-4772-a46b-325d4219400f"
      },
      "source": [
        "ts = time.time()\n",
        "\n",
        "model = XGBRegressor(\n",
        "    max_depth=10,\n",
        "    n_estimators=1000,\n",
        "    min_child_weight=0.5, \n",
        "    colsample_bytree=0.8, \n",
        "    subsample=0.8, \n",
        "    eta=0.1,\n",
        "    # tree_method='gpu_hist', \n",
        "    # gpu_id=0,\n",
        "    seed=42)\n",
        "\n",
        "model.fit(\n",
        "    X_train, \n",
        "    Y_train, \n",
        "    eval_metric=\"rmse\", \n",
        "    eval_set=[(X_train, Y_train), (X_valid, Y_valid)], \n",
        "    verbose=True, \n",
        "    early_stopping_rounds = 20)\n",
        "\n",
        "time.time() - ts"
      ],
      "execution_count": null,
      "outputs": [
        {
          "output_type": "stream",
          "text": [
            "[13:29:57] WARNING: /workspace/src/objective/regression_obj.cu:152: reg:linear is now deprecated in favor of reg:squarederror.\n",
            "[13:29:57] WARNING: /workspace/src/learner.cc:686: Tree method is automatically selected to be 'approx' for faster speed. To use old behavior (exact greedy algorithm on single machine), set tree_method to 'exact'.\n",
            "[0]\tvalidation_0-rmse:1.12359\tvalidation_1-rmse:1.11776\n",
            "Multiple eval metrics have been passed: 'validation_1-rmse' will be used for early stopping.\n",
            "\n",
            "Will train until validation_1-rmse hasn't improved in 20 rounds.\n",
            "[1]\tvalidation_0-rmse:1.08296\tvalidation_1-rmse:1.07911\n",
            "[2]\tvalidation_0-rmse:1.04721\tvalidation_1-rmse:1.04677\n",
            "[3]\tvalidation_0-rmse:1.01094\tvalidation_1-rmse:1.01885\n",
            "[4]\tvalidation_0-rmse:0.984228\tvalidation_1-rmse:0.997916\n",
            "[5]\tvalidation_0-rmse:0.96087\tvalidation_1-rmse:0.980793\n",
            "[6]\tvalidation_0-rmse:0.939567\tvalidation_1-rmse:0.965107\n",
            "[7]\tvalidation_0-rmse:0.920986\tvalidation_1-rmse:0.954201\n",
            "[8]\tvalidation_0-rmse:0.905571\tvalidation_1-rmse:0.944135\n",
            "[9]\tvalidation_0-rmse:0.892293\tvalidation_1-rmse:0.935941\n",
            "[10]\tvalidation_0-rmse:0.881139\tvalidation_1-rmse:0.929249\n",
            "[11]\tvalidation_0-rmse:0.871308\tvalidation_1-rmse:0.923676\n",
            "[12]\tvalidation_0-rmse:0.863251\tvalidation_1-rmse:0.919625\n",
            "[13]\tvalidation_0-rmse:0.855573\tvalidation_1-rmse:0.915975\n",
            "[14]\tvalidation_0-rmse:0.849647\tvalidation_1-rmse:0.912538\n"
          ],
          "name": "stdout"
        }
      ]
    },
    {
      "cell_type": "code",
      "metadata": {
        "trusted": true,
        "id": "rcGC4r_d0YBY",
        "colab_type": "code",
        "colab": {}
      },
      "source": [
        "Y_pred = model.predict(X_valid).clip(0, 20)\n",
        "Y_test = model.predict(X_test).clip(0, 20)\n",
        "\n",
        "submission = pd.DataFrame({\n",
        "    \"ID\": test.index, \n",
        "    \"item_cnt_month\": Y_test\n",
        "})\n",
        "submission.to_csv('xgb_submission.csv', index=False)"
      ],
      "execution_count": null,
      "outputs": []
    },
    {
      "cell_type": "code",
      "metadata": {
        "trusted": true,
        "id": "VT6UTHbE0YBb",
        "colab_type": "code",
        "colab": {}
      },
      "source": [
        "from xgboost import plot_importance\n",
        "\n",
        "def plot_features(booster, figsize):    \n",
        "    fig, ax = plt.subplots(1,1,figsize=figsize)\n",
        "    return plot_importance(booster=booster, ax=ax)\n",
        "\n",
        "plot_features(model, (10,14))"
      ],
      "execution_count": null,
      "outputs": []
    }
  ]
}